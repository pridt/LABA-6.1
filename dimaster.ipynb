{
  "nbformat": 4,
  "nbformat_minor": 0,
  "metadata": {
    "colab": {
      "provenance": [],
      "toc_visible": true
    },
    "kernelspec": {
      "name": "python3",
      "display_name": "Python 3"
    },
    "language_info": {
      "name": "python"
    }
  },
  "cells": [
    {
      "cell_type": "markdown",
      "source": [
        "\n",
        "# Python - проста мова програмування\n",
        "![зображення_2023-10-26_234553080.png](data:image/png;base64,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)\n",
        "---\n",
        "\n",
        "\n"
      ],
      "metadata": {
        "id": "vkN5acUUk655"
      }
    },
    {
      "cell_type": "markdown",
      "source": [
        "Python - дозволяє програмістам виразно виражати свої ідеї, не докладаючи великих зусиль. Синтаксис мови Python легко читати і розуміти. Це подібно до англійської мови, що робить код більш доступним для новачків. Принцип \"який ви бачите, те і отримуєте\" допомагає зрозуміти код без глибоких знань мови.\n",
        "\n",
        "---\n",
        "\n",
        "Python був створений з врахуванням принципу \"читабельності коду\", і це призвело до того, що багато конструкцій в Python схожі до англійської мови. Ця особливість робить код на Python легким для розуміння і відлагодження. Ось деякі приклади схожості Python до англійської мови:\n",
        "\n",
        "\n",
        "\n",
        "---\n",
        "\n",
        "\n"
      ],
      "metadata": {
        "id": "cH5LbGuKkDoX"
      }
    },
    {
      "cell_type": "markdown",
      "source": [
        "Ось найпростіший приклад Python-коду, який виводить \"Привіт, світ!\" на екран:\n",
        "\n",
        "\n",
        "\n",
        "\n",
        "\n",
        "\n"
      ],
      "metadata": {
        "id": "GneUg77Wt-Cw"
      }
    },
    {
      "cell_type": "code",
      "source": [
        "print(\"Привіт, світ!\")\n"
      ],
      "metadata": {
        "colab": {
          "base_uri": "https://localhost:8080/"
        },
        "id": "c_6930Hgt-is",
        "outputId": "65a2ea8d-aa9c-4555-a913-a690dc5ff522"
      },
      "execution_count": null,
      "outputs": [
        {
          "output_type": "stream",
          "name": "stdout",
          "text": [
            "Привіт, світ!\n"
          ]
        }
      ]
    },
    {
      "cell_type": "markdown",
      "source": [
        "**Умовні оператори:** Умовні оператори мають ключові слова, які виглядають схожими до англійської мови:\n",
        "\n",
        "\n",
        "\n",
        "\n",
        "\n",
        "\n"
      ],
      "metadata": {
        "id": "vleNnZW7nCcM"
      }
    },
    {
      "cell_type": "code",
      "source": [
        "\n",
        "age = 15\n",
        "if age >= 18:\n",
        "    print(\"You are an adult.\")\n",
        "else:\n",
        "    print(\"You are not an adult.\")\n"
      ],
      "metadata": {
        "colab": {
          "base_uri": "https://localhost:8080/"
        },
        "id": "0N1pYSL_5LhD",
        "outputId": "6a1df339-fc48-4eec-b4e3-262b3aead57a"
      },
      "execution_count": null,
      "outputs": [
        {
          "output_type": "stream",
          "name": "stdout",
          "text": [
            "You are not an adult.\n"
          ]
        }
      ]
    },
    {
      "cell_type": "markdown",
      "source": [
        "**Цикли:** Цикли також використовують ключові слова, які є зрозумілими:"
      ],
      "metadata": {
        "id": "Zm4CvsYk58oA"
      }
    },
    {
      "cell_type": "code",
      "source": [
        "for i in range(5):\n",
        "    print(\"Iteration\", i)\n"
      ],
      "metadata": {
        "colab": {
          "base_uri": "https://localhost:8080/"
        },
        "id": "WKgxgiO76BF6",
        "outputId": "8de53100-9e6e-44ed-dfc4-810b9c9ea08c"
      },
      "execution_count": null,
      "outputs": [
        {
          "output_type": "stream",
          "name": "stdout",
          "text": [
            "Iteration 0\n",
            "Iteration 1\n",
            "Iteration 2\n",
            "Iteration 3\n",
            "Iteration 4\n"
          ]
        }
      ]
    },
    {
      "cell_type": "markdown",
      "source": [
        "**Функції:** Функції оголошуються з ключовим словом \"def\", і імена функцій часто вибираються так, щоб були зрозумілими:"
      ],
      "metadata": {
        "id": "X5bnsfXL6E4X"
      }
    },
    {
      "cell_type": "code",
      "source": [
        "def calculate_sum(a, b):\n",
        "    return a + b\n",
        "\n"
      ],
      "metadata": {
        "id": "hOT_FM4f6Jds"
      },
      "execution_count": null,
      "outputs": []
    },
    {
      "cell_type": "markdown",
      "source": [
        "**Методи рядків:** В Python є методи рядків, які нагадують роботу з англійським текстом:"
      ],
      "metadata": {
        "id": "eex2Yw3k6UOK"
      }
    },
    {
      "cell_type": "code",
      "source": [
        "text = \"Hello, World\"\n",
        "uppercase_text = text.upper()  # Перетворення рядка в верхній регістр.\n"
      ],
      "metadata": {
        "id": "oI0ppRf86XmB"
      },
      "execution_count": null,
      "outputs": []
    },
    {
      "cell_type": "markdown",
      "source": [
        "Всі ці особливості роблять Python легким для навчання і використання, особливо для тих, хто володіє англійською мовою, оскільки багато конструкцій і ключових слів схожі на англійські слова.\n",
        "\n",
        "---\n",
        "\n"
      ],
      "metadata": {
        "id": "HlarTNQG6uQu"
      }
    },
    {
      "cell_type": "markdown",
      "source": [
        "# Математика в Python\n",
        "![зображення_2023-10-27_000353430.png](data:image/png;base64,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)"
      ],
      "metadata": {
        "id": "N8cIEBRBy-yO"
      }
    },
    {
      "cell_type": "markdown",
      "source": [
        "Python - це мова програмування, яка включає в себе розширений набір арифметичних операцій для обробки чисел. Вона підтримує всі стандартні арифметичні операції, такі як додавання, віднімання, множення та ділення, і має можливості для більш складних операцій, таких як піднесення до ступеня та обчислення коренів.\n",
        "\n",
        "---\n",
        "\n"
      ],
      "metadata": {
        "id": "DqE6HHzSzh_N"
      }
    },
    {
      "cell_type": "markdown",
      "source": [
        " 1. Додавання (+): Операція додавання використовується для об'єднання чисел."
      ],
      "metadata": {
        "id": "irHgdeBGz0kQ"
      }
    },
    {
      "cell_type": "code",
      "source": [
        "a = 5\n",
        "b = 3\n",
        "result = a + b\n",
        "print(result)\n"
      ],
      "metadata": {
        "colab": {
          "base_uri": "https://localhost:8080/"
        },
        "id": "1gbSWA8wz-xL",
        "outputId": "792f19db-5333-4228-d69e-8a9ca830de33"
      },
      "execution_count": null,
      "outputs": [
        {
          "output_type": "stream",
          "name": "stdout",
          "text": [
            "8\n"
          ]
        }
      ]
    },
    {
      "cell_type": "markdown",
      "source": [
        "2. Віднімання (-): Операція віднімання використовується для віднімання одного числа від іншого."
      ],
      "metadata": {
        "id": "NNF9Hh8M0ITj"
      }
    },
    {
      "cell_type": "code",
      "source": [
        "a = 10\n",
        "b = 7\n",
        "result = a - b\n",
        "print(result)\n"
      ],
      "metadata": {
        "colab": {
          "base_uri": "https://localhost:8080/"
        },
        "id": "dM3q6AL207cU",
        "outputId": "3f939cc0-0112-40a5-c5ee-e6eb8dc67474"
      },
      "execution_count": null,
      "outputs": [
        {
          "output_type": "stream",
          "name": "stdout",
          "text": [
            "3\n"
          ]
        }
      ]
    },
    {
      "cell_type": "markdown",
      "source": [
        "3. Множення (*): Операція множення використовується для перемноження двох чисел."
      ],
      "metadata": {
        "id": "fxQ-p4D31DTs"
      }
    },
    {
      "cell_type": "code",
      "source": [
        "a = 4\n",
        "b = 6\n",
        "result = a * b\n",
        "print(result)"
      ],
      "metadata": {
        "colab": {
          "base_uri": "https://localhost:8080/"
        },
        "id": "GaPWxop51IEI",
        "outputId": "4827c832-2b06-45cd-e2d1-e279ba2e33c2"
      },
      "execution_count": null,
      "outputs": [
        {
          "output_type": "stream",
          "name": "stdout",
          "text": [
            "24\n"
          ]
        }
      ]
    },
    {
      "cell_type": "markdown",
      "source": [
        "4. Ділення (/): Операція ділення використовується для розділення одного числа на інше."
      ],
      "metadata": {
        "id": "2MdJNT101TFw"
      }
    },
    {
      "cell_type": "code",
      "source": [
        "a = 8\n",
        "b = 2\n",
        "result = a / b\n",
        "print(result)"
      ],
      "metadata": {
        "colab": {
          "base_uri": "https://localhost:8080/"
        },
        "id": "EBPU_49z1WtA",
        "outputId": "898c22bc-53d2-41bc-fd9b-1cea8cc1841c"
      },
      "execution_count": null,
      "outputs": [
        {
          "output_type": "stream",
          "name": "stdout",
          "text": [
            "4.0\n"
          ]
        }
      ]
    },
    {
      "cell_type": "markdown",
      "source": [
        "5. Ділення з цілочисельним результатом (//): Операція ділення, яка повертає цілочисельний результат, відкидаючи дробну частину."
      ],
      "metadata": {
        "id": "bjnV8aSD1hr-"
      }
    },
    {
      "cell_type": "code",
      "source": [
        "a = 8\n",
        "b = 3\n",
        "result = a // b\n",
        "print(result)"
      ],
      "metadata": {
        "colab": {
          "base_uri": "https://localhost:8080/"
        },
        "id": "Rsk6Pimp1jvt",
        "outputId": "9966fabd-5cbf-4a4a-e0e8-3340a87faea0"
      },
      "execution_count": null,
      "outputs": [
        {
          "output_type": "stream",
          "name": "stdout",
          "text": [
            "2\n"
          ]
        }
      ]
    },
    {
      "cell_type": "markdown",
      "source": [
        "6. Піднесення до ступеня ():** Операція піднесення до ступеня використовується для піднесення числа до певного степеня."
      ],
      "metadata": {
        "id": "mi4fkL--1smE"
      }
    },
    {
      "cell_type": "code",
      "source": [
        "x = 2\n",
        "y = 3\n",
        "result = x ** y  # x в степені y\n",
        "print(result)\n",
        "\n",
        "\n"
      ],
      "metadata": {
        "colab": {
          "base_uri": "https://localhost:8080/"
        },
        "id": "dI9B7PqR1vA4",
        "outputId": "4aa3d49e-b99e-43e5-858c-70fcc5b0b271"
      },
      "execution_count": null,
      "outputs": [
        {
          "output_type": "stream",
          "name": "stdout",
          "text": [
            "8\n"
          ]
        }
      ]
    },
    {
      "cell_type": "markdown",
      "source": [
        "7. Обчислення кореня (sqrt): Для обчислення кореня числа можна використовувати функцію sqrt з бібліотеки math."
      ],
      "metadata": {
        "id": "GC701VT41-eN"
      }
    },
    {
      "cell_type": "code",
      "source": [
        "import math\n",
        "x = 100\n",
        "result = math.sqrt(x)\n",
        "print(result)"
      ],
      "metadata": {
        "colab": {
          "base_uri": "https://localhost:8080/"
        },
        "id": "uFbBrsnw2AsE",
        "outputId": "133f5bba-3659-4cc6-b49b-3e5462075ce3"
      },
      "execution_count": null,
      "outputs": [
        {
          "output_type": "stream",
          "name": "stdout",
          "text": [
            "10.0\n"
          ]
        }
      ]
    },
    {
      "cell_type": "markdown",
      "source": [
        "Python також підтримує числа з плаваючою комою, комплексні числа та інші математичні операції. Для більш складних обчислень використовують бібліотеки, такі як NumPy та SciPy, які надають багато математичних функцій і структур даних для роботи з числами.\n",
        "\n",
        "---\n",
        "\n"
      ],
      "metadata": {
        "id": "E9n677q82PQT"
      }
    },
    {
      "cell_type": "markdown",
      "source": [
        "# Які ігри можна писати на мові програмування **Python?**\n",
        "![зображення_2023-10-26_233633886.png](data:image/png;base64,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)"
      ],
      "metadata": {
        "id": "jiwo6lbinhiX"
      }
    },
    {
      "cell_type": "markdown",
      "source": [
        "**Python** - це мова програмування, яка може\n",
        "використовуватися для розробки різних видів ігор, включаючи, але не обмежуючись:\n",
        "\n",
        "---\n",
        "\n"
      ],
      "metadata": {
        "id": "BcFiSEKhrH3p"
      }
    },
    {
      "cell_type": "markdown",
      "source": [
        "* Текстові ігри: Python легко використовувати для\n",
        "створення текстових ігор, які використовують консоль для виводу тексту та введення команд.\n",
        "\n",
        "* Графічні ігри: Ви можете використовувати бібліотеки, такі як Pygame, для створення графічних ігор з використанням 2D графіки.\n",
        "\n",
        "* Веб-ігри: Python може бути використаний для створення веб-ігор, включаючи браузерні ігри з використанням фреймворків, таких як Django або Flask.\n",
        "\n",
        "* Ігри з штучним інтелектом: Ви можете використовувати Python для створення ігор, які використовують штучний інтелект для керування персонажами або ворогами.\n",
        "\n",
        "* Ігри з мережевими можливостями: Python може бути використаний для створення ігор, які підтримують мережеву гру, де гравці можуть взаємодіяти один з одним через Інтернет.\n",
        "\n",
        "* Головоломки та логічні ігри: Python чудово підходить для створення головоломок, гра-головоломок, логічних ігор та ігор для навчання.\n",
        "\n",
        "* Симуляційні ігри: Python може бути використаний для створення симуляційних ігор, де ви можете моделювати різні процеси та сценарії.\n",
        "\n",
        "* Рольові ігри (RPG): Ви можете створити рольові ігри з інтерактивними історіями, бойовою системою та розвитком персонажів.\n",
        "\n",
        "* Стратегічні ігри: Python може бути використаний для створення стратегічних ігор, де гравці планують та керують військами або ресурсами.\n",
        "\n",
        "* Ігри для навчання: Python може бути використаний для створення ігор для навчання, що допомагають розвивати навички та знання.\n",
        "\n",
        "---\n",
        "\n",
        "\n",
        "\n",
        "\n",
        "\n",
        "\n"
      ],
      "metadata": {
        "id": "qCY0FfV0qc1T"
      }
    },
    {
      "cell_type": "markdown",
      "source": [
        "Ось простий приклад гри на Python, де програма генерує цифру, а користувач намагається вгадати її.\n",
        "\n",
        "\n",
        "\n"
      ],
      "metadata": {
        "id": "OaiR62LmoClv"
      }
    },
    {
      "cell_type": "code",
      "source": [
        "import random\n",
        "\n",
        "# Генеруємо випадкове число від 1 до 10\n",
        "secret_number = random.randint(1, 10)\n",
        "attempts = 0\n",
        "\n",
        "print(\"Ласкаво просимо в гру 'Вгадай число'!\")\n",
        "print(\"Спробуйте вгадати число від 1 до 100.\")\n",
        "\n",
        "while True:\n",
        "    try:\n",
        "        user_guess = int(input(\"Ваш варіант: \"))\n",
        "        attempts += 1\n",
        "\n",
        "        if user_guess < secret_number:\n",
        "            print(\"Загадане число більше.\")\n",
        "        elif user_guess > secret_number:\n",
        "            print(\"Загадане число менше.\")\n",
        "        else:\n",
        "            print(f\"Вітаємо! Ви вгадали число {secret_number} за {attempts} спроб.\")\n",
        "            break\n",
        "    except ValueError:\n",
        "        print(\"Будь ласка, введіть коректне число.\")\n"
      ],
      "metadata": {
        "colab": {
          "base_uri": "https://localhost:8080/"
        },
        "id": "06Q6DmOXpxUY",
        "outputId": "747d895c-abe0-47e6-e345-dde3688844ac"
      },
      "execution_count": null,
      "outputs": [
        {
          "output_type": "stream",
          "name": "stdout",
          "text": [
            "Ласкаво просимо в гру 'Вгадай число'!\n",
            "Спробуйте вгадати число від 1 до 100.\n",
            "Ваш варіант: 2\n",
            "Загадане число більше.\n",
            "Ваш варіант: 5\n",
            "Загадане число більше.\n",
            "Ваш варіант: 6\n",
            "Загадане число більше.\n",
            "Ваш варіант: 8\n",
            "Вітаємо! Ви вгадали число 8 за 4 спроб.\n"
          ]
        }
      ]
    },
    {
      "cell_type": "markdown",
      "source": [
        "Ще один простий приклад примітивної гри на Python, де вам потрібно вибирати між двома опціями і бачити результат вашого вибору.\n",
        "\n"
      ],
      "metadata": {
        "id": "QUbCNqo94M1O"
      }
    },
    {
      "cell_type": "code",
      "source": [
        "import random\n",
        "\n",
        "def main():\n",
        "    print(\"Ласкаво просимо до гри 'Гра вибору опції'!\")\n",
        "    print(\"Ви повинні вибрати одну з двох опцій і подивитися, який результат ви отримаєте.\")\n",
        "\n",
        "    while True:\n",
        "        user_choice = input(\"Виберіть опцію (1 або 2): \")\n",
        "        if user_choice in [\"1\", \"2\"]:\n",
        "            result = random.choice([\"Позитивний результат!\", \"Негативний результат!\"])\n",
        "            print(result)\n",
        "        else:\n",
        "            print(\"Будь ласка, виберіть 1 або 2.\")\n",
        "\n",
        "        play_again = input(\"Бажаєте грати ще раз? (так/ні): \")\n",
        "        if play_again.lower() != \"так\":\n",
        "            print(\"Дякуємо за гру!\")\n",
        "            break\n",
        "\n",
        "if __name__ == \"__main__\":\n",
        "    main()"
      ],
      "metadata": {
        "colab": {
          "base_uri": "https://localhost:8080/"
        },
        "id": "cYau89O74AbR",
        "outputId": "c3caf36f-5594-40e6-9a07-4bac5b44fd27"
      },
      "execution_count": null,
      "outputs": [
        {
          "output_type": "stream",
          "name": "stdout",
          "text": [
            "Ласкаво просимо до гри 'Гра вибору опції'!\n",
            "Ви повинні вибрати одну з двох опцій і подивитися, який результат ви отримаєте.\n",
            "Виберіть опцію (1 або 2): 2\n",
            "Позитивний результат!\n",
            "Бажаєте грати ще раз? (так/ні): 2\n",
            "Дякуємо за гру!\n"
          ]
        }
      ]
    },
    {
      "cell_type": "markdown",
      "source": [
        "У цій грі ви вибираєте одну з двох опцій, і вам показують випадковий результат для вашого вибору. Після кожного вибору вас запитують, чи хочете грати ще раз.\n",
        "\n",
        "---\n",
        "\n"
      ],
      "metadata": {
        "id": "JuovOALd4d4g"
      }
    }
  ]
}